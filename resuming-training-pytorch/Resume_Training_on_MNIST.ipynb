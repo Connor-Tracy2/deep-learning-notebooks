{
 "cells": [
  {
   "cell_type": "code",
   "execution_count": 8,
   "metadata": {},
   "outputs": [
    {
     "name": "stdout",
     "output_type": "stream",
     "text": [
      "The autoreload extension is already loaded. To reload it, use:\n",
      "  %reload_ext autoreload\n"
     ]
    }
   ],
   "source": [
    "import torch\n",
    "import torch.nn as nn\n",
    "import torch.optim as optim\n",
    "from torch.autograd import Variable\n",
    "import torch.nn.functional as F\n",
    "\n",
    "import matplotlib.pyplot as plt\n",
    "import numpy as np\n",
    "from models import SimpleModel, ConcreteModel, ConcreteDropout, normal_nll\n",
    "\n",
    "torch.manual_seed(2809)\n",
    "np.random.seed(2809)\n",
    "torch.cuda.manual_seed(2809)\n",
    "%load_ext autoreload\n",
    "%autoreload 2"
   ]
  },
  {
   "cell_type": "code",
   "execution_count": 9,
   "metadata": {},
   "outputs": [],
   "source": [
    "def print_weights(model):\n",
    "    print(model.fc1.weight.data)\n",
    "    print(model.fc2.weight.data)\n",
    "    print(model.fc1.bias.data)\n",
    "    print(model.fc2.bias.data)\n",
    "\n",
    "def save_checkpoint(state, filename='checkpoint.pth'):\n",
    "    torch.save(state, filename)\n",
    "    \n",
    "def evaluate_loss(pred, true, log_var=None):\n",
    "    if log_var is None:\n",
    "        criterion = nn.MSELoss()\n",
    "        return criterion(pred, true)\n",
    "    else:\n",
    "        return normal_nll(pred, true, log_var)"
   ]
  },
  {
   "cell_type": "code",
   "execution_count": 10,
   "metadata": {},
   "outputs": [],
   "source": [
    "def generate_data(N, X_dim, Y_dim):\n",
    "    \"\"\"\n",
    "    Function to generate data\n",
    "    \"\"\"\n",
    "    sigma = 0.7  # ground truth\n",
    "    X = torch.randn(N, X_dim)\n",
    "    w = torch.ones((X_dim, Y_dim))*2.0\n",
    "    b = 8.0\n",
    "    Y = torch.mm(X, w) + b + sigma*torch.randn(N, Y_dim)\n",
    "    return X, Y"
   ]
  },
  {
   "cell_type": "code",
   "execution_count": 11,
   "metadata": {},
   "outputs": [],
   "source": [
    "checkpoint_path = 'checkpoint.pth'\n",
    "batch_size = 25\n",
    "n_hidden = 3\n",
    "n_train = 1000\n",
    "n_val = 100\n",
    "n_data = n_train + n_val\n",
    "X_dim = 4\n",
    "Y_dim = 2\n",
    "epoch = 0\n",
    "# For ConcreteModel\n",
    "l = 1e-4 # length scale\n",
    "wr = l**2. / n_train\n",
    "dr = 2. / n_train\n",
    "\n",
    "#model = SimpleModel(X_dim, n_hidden, Y_dim)\n",
    "model = ConcreteModel(X_dim, n_hidden, Y_dim, wr, dr)\n",
    "model_resume = SimpleModel(X_dim, n_hidden, Y_dim)\n",
    "model_resume = ConcreteModel(X_dim, n_hidden, Y_dim, wr, dr)\n",
    "\n",
    "optimizer = optim.Adam(model.parameters(), \n",
    "                      betas=(0.9, 0.999), eps=1e-08, amsgrad=True)\n",
    "optimizer_resume = optim.Adam(model_resume.parameters(), \n",
    "                             betas=(0.9, 0.999), eps=1e-08, amsgrad=True)"
   ]
  },
  {
   "cell_type": "code",
   "execution_count": 12,
   "metadata": {},
   "outputs": [],
   "source": [
    "X, Y = generate_data(n_data, X_dim, Y_dim)\n",
    "X_train, Y_train = X[:n_train], Y[:n_train]\n",
    "X_val, Y_val = X[n_train:], Y[n_train:]"
   ]
  },
  {
   "cell_type": "code",
   "execution_count": 14,
   "metadata": {},
   "outputs": [],
   "source": [
    "# Train for one epoch\n",
    "losses = []\n",
    "while epoch < 200:\n",
    "    optimizer.zero_grad()\n",
    "    pred, log_var, reg = model(X_train)\n",
    "    loss = evaluate_loss(pred, Y_train, log_var)\n",
    "    loss.backward()\n",
    "    optimizer.step()\n",
    "    loss_val = loss.item()\n",
    "    losses.append(loss_val)\n",
    "    epoch += 1\n",
    "\n",
    "save_checkpoint({\n",
    "            'epoch': epoch + 1,\n",
    "            'state_dict': model.state_dict(),\n",
    "            'optimizer' : optimizer.state_dict(),\n",
    "            }, checkpoint_path)\n",
    "#print_weights(model)\n",
    "#optimizer.state_dict()"
   ]
  },
  {
   "cell_type": "code",
   "execution_count": 15,
   "metadata": {},
   "outputs": [
    {
     "name": "stdout",
     "output_type": "stream",
     "text": [
      "=> loading checkpoint 'checkpoint.pth'\n"
     ]
    }
   ],
   "source": [
    "# Resume training\n",
    "\n",
    "\n",
    "print(\"=> loading checkpoint '{}'\".format(checkpoint_path))\n",
    "checkpoint = torch.load(checkpoint_path)\n",
    "epoch = checkpoint['epoch']\n",
    "model_resume.load_state_dict(checkpoint['state_dict'])\n",
    "optimizer_resume.load_state_dict(checkpoint['optimizer'])\n",
    "#print_weights(model_resume)\n",
    "#optimizer_resume.state_dict()"
   ]
  },
  {
   "cell_type": "code",
   "execution_count": 16,
   "metadata": {},
   "outputs": [],
   "source": [
    "# Train model for 100 more epochs\n",
    "while epoch < 300:\n",
    "    optimizer_resume.zero_grad()\n",
    "    pred, log_var, reg = model_resume(X_train)\n",
    "    loss = evaluate_loss(pred, Y_train, log_var)\n",
    "    loss.backward()\n",
    "    optimizer_resume.step()\n",
    "    loss_val = loss.item()\n",
    "    losses.append(loss_val)\n",
    "    epoch += 1"
   ]
  },
  {
   "cell_type": "code",
   "execution_count": 17,
   "metadata": {},
   "outputs": [
    {
     "data": {
      "text/plain": [
       "[<matplotlib.lines.Line2D at 0x7f0734819e80>]"
      ]
     },
     "execution_count": 17,
     "metadata": {},
     "output_type": "execute_result"
    },
    {
     "data": {
      "image/png": "[encoded data removed]",
      "text/plain": [
       "<Figure size 432x288 with 1 Axes>"
      ]
     },
     "metadata": {},
     "output_type": "display_data"
    }
   ],
   "source": [
    "losses_arr = np.array(losses)\n",
    "plt.plot(losses)"
   ]
  },
  {
   "cell_type": "code",
   "execution_count": null,
   "metadata": {},
   "outputs": [],
   "source": []
  }
 ],
 "metadata": {
  "kernelspec": {
   "display_name": "python3.5",
   "language": "python",
   "name": "python3.5"
  },
  "language_info": {
   "codemirror_mode": {
    "name": "ipython",
    "version": 3
   },
   "file_extension": ".py",
   "mimetype": "text/x-python",
   "name": "python",
   "nbconvert_exporter": "python",
   "pygments_lexer": "ipython3",
   "version": "3.5.2"
  }
 },
 "nbformat": 4,
 "nbformat_minor": 2
}
