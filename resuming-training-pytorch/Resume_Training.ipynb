{
 "cells": [
  {
   "cell_type": "code",
   "execution_count": 1,
   "metadata": {},
   "outputs": [],
   "source": [
    "import torch\n",
    "import torch.nn as nn\n",
    "import torch.optim as optim\n",
    "from torch.autograd import Variable\n",
    "import torch.nn.functional as F\n",
    "\n",
    "import matplotlib.pyplot as plt\n",
    "import numpy as np\n",
    "\n",
    "from models import SimpleModel, ConcreteModel, ConcreteDropout, normal_nll\n",
    "from torch.utils.data import Dataset, DataLoader\n",
    "from torch.utils.data.sampler import SubsetRandomSampler\n",
    "from data import FakeData\n",
    "\n",
    "torch.manual_seed(2809)\n",
    "np.random.seed(2809)\n",
    "torch.cuda.manual_seed(2809)\n",
    "%load_ext autoreload\n",
    "%autoreload 2"
   ]
  },
  {
   "cell_type": "markdown",
   "metadata": {},
   "source": [
    "### Utility functions"
   ]
  },
  {
   "cell_type": "code",
   "execution_count": 2,
   "metadata": {},
   "outputs": [],
   "source": [
    "def generate_data(N, X_dim, Y_dim):\n",
    "    \"\"\"\n",
    "    Function to generate data\n",
    "    \"\"\"\n",
    "    sigma = 0.7  # ground truth\n",
    "    X = torch.randn(N, X_dim)\n",
    "    w = torch.ones((X_dim, Y_dim))*2.0\n",
    "    b = 8.0\n",
    "    Y = torch.mm(X, w) + b + sigma*torch.randn(N, Y_dim)\n",
    "    return X, Y"
   ]
  },
  {
   "cell_type": "code",
   "execution_count": 3,
   "metadata": {},
   "outputs": [],
   "source": [
    "def print_weights(model):\n",
    "    print(model.fc1.weight.data)\n",
    "    print(model.fc2.weight.data)\n",
    "    print(model.fc1.bias.data)\n",
    "    print(model.fc2.bias.data)\n",
    "\n",
    "def save_checkpoint(state, filename='checkpoint.pth'):\n",
    "    torch.save(state, filename)\n",
    "    \n",
    "def evaluate_loss(pred, true, log_var=None):\n",
    "    if log_var is None:\n",
    "        return nn.MSELoss()(pred, true)\n",
    "    else:\n",
    "        return normal_nll(pred, true, log_var)\n",
    "\n",
    "def generate_data(N, X_dim, Y_dim):\n",
    "    \"\"\"\n",
    "    Function to generate data\n",
    "    \"\"\"\n",
    "    sigma = 0.3  # ground truth\n",
    "    X = torch.randn(N, X_dim)\n",
    "    w = torch.ones((X_dim, Y_dim))*2.0\n",
    "    b = 8.0\n",
    "    Y = torch.mm(X, w) + b + sigma*torch.randn(N, Y_dim)\n",
    "    return X, Y"
   ]
  },
  {
   "cell_type": "markdown",
   "metadata": {},
   "source": [
    "### Global config (model type, CPU/GPU)"
   ]
  },
  {
   "cell_type": "code",
   "execution_count": 4,
   "metadata": {},
   "outputs": [],
   "source": [
    "checkpoint_path = 'checkpoint.pth'\n",
    "batch_size = 25\n",
    "n_hidden = 3\n",
    "n_train = 1000\n",
    "n_val = 100\n",
    "n_data = n_train + n_val\n",
    "X_dim = 4\n",
    "Y_dim = 2\n",
    "\n",
    "# For ConcreteModel\n",
    "l = 1e-4 # length scale\n",
    "wr = l**2. / n_train\n",
    "dr = 2. / n_train"
   ]
  },
  {
   "cell_type": "code",
   "execution_count": 5,
   "metadata": {},
   "outputs": [],
   "source": [
    "# Generate fake data\n",
    "X, Y = generate_data(n_data, X_dim, Y_dim)\n",
    "X_train, Y_train = X[:n_train], Y[:n_train]\n",
    "X_val, Y_val = X[n_train:], Y[n_train:]"
   ]
  },
  {
   "cell_type": "code",
   "execution_count": 6,
   "metadata": {},
   "outputs": [
    {
     "name": "stdout",
     "output_type": "stream",
     "text": [
      "device:  cuda\n"
     ]
    }
   ],
   "source": [
    "epoch = 0\n",
    "device = 'cuda'\n",
    "simple_model = False\n",
    "\n",
    "if device=='cuda':\n",
    "    torch.set_default_tensor_type('torch.cuda.FloatTensor')\n",
    "else: # cpu\n",
    "    torch.set_default_tensor_type('torch.FloatTensor')\n",
    "print(\"device: \", device)\n",
    "\n",
    "if simple_model:\n",
    "    model = SimpleModel(X_dim, n_hidden, Y_dim)\n",
    "    model_resume = SimpleModel(X_dim, n_hidden, Y_dim).to(device)\n",
    "else: # ConcreteModel\n",
    "    model = ConcreteModel(X_dim, n_hidden, Y_dim, wr, dr).to(device)\n",
    "    model_resume = ConcreteModel(X_dim, n_hidden, Y_dim, wr, dr).to(device)\n",
    "\n",
    "optimizer = optim.Adam(model.parameters(), \n",
    "                      betas=(0.9, 0.999), eps=1e-08, amsgrad=True)\n",
    "optimizer_resume = optim.Adam(model_resume.parameters(), \n",
    "                             betas=(0.9, 0.999), eps=1e-08, amsgrad=True)"
   ]
  },
  {
   "cell_type": "code",
   "execution_count": 7,
   "metadata": {},
   "outputs": [],
   "source": [
    "# Create dataloader\n",
    "data = FakeData(X, Y)\n",
    "kwargs = {'num_workers': 1, 'pin_memory': True} if device=='cuda' else {}\n",
    "train_sampler = SubsetRandomSampler(np.arange(n_train))\n",
    "train_loader = DataLoader(data, batch_size=batch_size, sampler=train_sampler, **kwargs)"
   ]
  },
  {
   "cell_type": "code",
   "execution_count": 8,
   "metadata": {},
   "outputs": [
    {
     "name": "stdout",
     "output_type": "stream",
     "text": [
      "torch.Size([25, 4]) torch.Size([25, 2])\n",
      "25\n"
     ]
    }
   ],
   "source": [
    "for x_, y_ in train_loader:\n",
    "    print(x_.shape, y_.shape)\n",
    "    print(x_.shape[0])\n",
    "    #print(x_)\n",
    "    #print(y_)\n",
    "    break"
   ]
  },
  {
   "cell_type": "code",
   "execution_count": 9,
   "metadata": {},
   "outputs": [],
   "source": [
    "# Train for one epoch\n",
    "losses = []\n",
    "while epoch < 200:\n",
    "    loss_val = 0\n",
    "    for X_, Y_ in train_loader:\n",
    "        \n",
    "        X_batch = Variable(torch.FloatTensor(X_)).to(device)\n",
    "        Y_batch = Variable(torch.FloatTensor(Y_)).to(device)\n",
    "        pred, log_var, reg = model(X_batch)\n",
    "        optimizer.zero_grad()\n",
    "        loss = evaluate_loss(pred, Y_batch, log_var) + reg\n",
    "        loss.backward()\n",
    "        optimizer.step()\n",
    "        loss_val += loss.item()*X_batch.shape[0]/n_train\n",
    "    losses.append(loss_val)\n",
    "    epoch += 1\n",
    "\n",
    "save_checkpoint({\n",
    "            'epoch': epoch + 1,\n",
    "            'state_dict': model.state_dict(),\n",
    "            'optimizer' : optimizer.state_dict(),\n",
    "            }, checkpoint_path)\n",
    "#print_weights(model)\n",
    "#optimizer.state_dict()"
   ]
  },
  {
   "cell_type": "code",
   "execution_count": 10,
   "metadata": {},
   "outputs": [
    {
     "name": "stdout",
     "output_type": "stream",
     "text": [
      "cuda: True\n",
      "=> loading checkpoint 'checkpoint.pth'\n"
     ]
    }
   ],
   "source": [
    "# Resume training\n",
    "print(\"cuda: %s\" %next(model.parameters()).is_cuda)\n",
    "print(\"=> loading checkpoint '{}'\".format(checkpoint_path))\n",
    "checkpoint = torch.load(checkpoint_path)\n",
    "epoch = checkpoint['epoch']\n",
    "model_resume.load_state_dict(checkpoint['state_dict'])\n",
    "optimizer_resume.load_state_dict(checkpoint['optimizer'])\n",
    "#print_weights(model_resume)\n",
    "#optimizer_resume.state_dict()"
   ]
  },
  {
   "cell_type": "code",
   "execution_count": 11,
   "metadata": {},
   "outputs": [],
   "source": [
    "# Train model for 100 more epochs\n",
    "while epoch < 300:\n",
    "    loss_val = 0\n",
    "    for X_, Y_ in train_loader:\n",
    "        optimizer.zero_grad()\n",
    "        X_batch = Variable(torch.FloatTensor(X_)).to(device)\n",
    "        Y_batch = Variable(torch.FloatTensor(Y_)).to(device)\n",
    "        pred, log_var, reg = model(X_batch)\n",
    "        loss = evaluate_loss(pred, Y_batch, log_var) + reg\n",
    "        loss.backward()\n",
    "        optimizer.step()\n",
    "        loss_val += loss.item()*X_batch.shape[0]/n_train\n",
    "    losses.append(loss_val)\n",
    "    epoch += 1"
   ]
  },
  {
   "cell_type": "code",
   "execution_count": 12,
   "metadata": {},
   "outputs": [
    {
     "data": {
      "text/plain": [
       "<matplotlib.legend.Legend at 0x7fc1bd157128>"
      ]
     },
     "execution_count": 12,
     "metadata": {},
     "output_type": "execute_result"
    },
    {
     "data": {
      "image/png": "[encoded data removed]",
      "text/plain": [
       "<Figure size 432x288 with 1 Axes>"
      ]
     },
     "metadata": {},
     "output_type": "display_data"
    }
   ],
   "source": [
    "losses_arr = np.array(losses)\n",
    "plt.plot(losses)\n",
    "plt.ylabel('loss')\n",
    "plt.xlabel('steps')\n",
    "plt.axvline(x=200, color='r', label='checkpoint step')\n",
    "plt.title('%s_on_%s' %(model.__class__.__name__, device))\n",
    "plt.legend()\n",
    "#plt.savefig('%s_on_%s.png' %(model.__class__.__name__, device))"
   ]
  },
  {
   "cell_type": "code",
   "execution_count": null,
   "metadata": {},
   "outputs": [],
   "source": []
  }
 ],
 "metadata": {
  "kernelspec": {
   "display_name": "python3.5",
   "language": "python",
   "name": "python3.5"
  },
  "language_info": {
   "codemirror_mode": {
    "name": "ipython",
    "version": 3
   },
   "file_extension": ".py",
   "mimetype": "text/x-python",
   "name": "python",
   "nbconvert_exporter": "python",
   "pygments_lexer": "ipython3",
   "version": "3.5.2"
  }
 },
 "nbformat": 4,
 "nbformat_minor": 2
}
