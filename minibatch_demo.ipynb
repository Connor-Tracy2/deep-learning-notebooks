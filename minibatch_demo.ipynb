{
 "cells": [
  {
   "cell_type": "code",
   "execution_count": 2,
   "metadata": {
    "scrolled": true
   },
   "outputs": [
    {
     "name": "stdout",
     "output_type": "stream",
     "text": [
      "Extracting MNIST_data/train-images-idx3-ubyte.gz\n",
      "Extracting MNIST_data/train-labels-idx1-ubyte.gz\n",
      "Extracting MNIST_data/t10k-images-idx3-ubyte.gz\n",
      "Extracting MNIST_data/t10k-labels-idx1-ubyte.gz\n"
     ]
    }
   ],
   "source": [
    "import tensorflow as tf\n",
    "from tensorflow.examples.tutorials.mnist import input_data\n",
    "mnist = input_data.read_data_sets(\"MNIST_data/\", one_hot=True)\n",
    "import numpy as np\n",
    "import matplotlib.pyplot as plt\n",
    "%matplotlib inline"
   ]
  },
  {
   "cell_type": "markdown",
   "metadata": {},
   "source": [
    "## Minibatch implementation in Tensorflow\n",
    "In this notebook, I show how to store gradients over several minibatches and apply them together in Tensorflow, using the MNIST image set as an example. To demonstrate that this implementation for ONE minibatch is equivalent to the no-minibatch implementation, I overlay the loss/accuracy over iterations for the two (minibatch and no minibatch) settings while seeding all non-deterministic elements and keeping the training-set images the same. You can see that, no matter which optimizer is used, the loss and accuracy curves for two settings overlap."
   ]
  },
  {
   "cell_type": "code",
   "execution_count": 3,
   "metadata": {
    "collapsed": true
   },
   "outputs": [],
   "source": [
    "x = tf.placeholder(tf.float32, [None, 784])\n",
    "W = tf.Variable(tf.zeros([784, 10]))\n",
    "b = tf.Variable(tf.zeros([10]))\n",
    "y = tf.nn.softmax(tf.matmul(x, W) + b)\n",
    "y_ = tf.placeholder(tf.float32, [None, 10])\n",
    "\n",
    "correct_prediction = tf.equal(tf.argmax(y,1), tf.argmax(y_,1))\n",
    "accuracy = tf.reduce_mean(tf.cast(correct_prediction, tf.float32))\n",
    "loss = tf.reduce_mean(tf.nn.softmax_cross_entropy_with_logits(labels=y_, logits=y))"
   ]
  },
  {
   "cell_type": "code",
   "execution_count": 40,
   "metadata": {
    "collapsed": true
   },
   "outputs": [],
   "source": [
    "sess = tf.InteractiveSession()\n",
    "\n",
    "# define optimizer\n",
    "opt = tf.train.GradientDescentOptimizer(0.03)\n",
    "#opt = tf.train.AdagradOptimizer(0.001)\n",
    "#opt = tf.train.AdamOptimizer(0.01)\n",
    "#opt = tf.train.RMSPropOptimizer(0.0003)\n",
    "\n",
    "# trainable variables\n",
    "tvs = tf.trainable_variables() \n",
    "# create placeholders for the gradients we'll be storing\n",
    "accum_vars = [tf.Variable(tv.initialized_value(),\n",
    "                          trainable=False) for tv in tvs]\n",
    "# ops to initialize accum_vars to zero\n",
    "zero_ops = [tv.assign(tf.zeros_like(tv)) for tv in accum_vars]\n",
    "# compute the gradients (example of loss is softmax cross entropy)\n",
    "gvs = opt.compute_gradients(loss)\n",
    "# accumulate the gradients of accum_vars\n",
    "accum_ops = [accum_vars[i].assign_add(gv[0]) for i, gv in enumerate(gvs)]\n",
    "# perform the update\n",
    "train_step = opt.apply_gradients([(accum_vars[i], \n",
    "                                   tv) for i, tv in enumerate(tf.trainable_variables())])\n",
    "minimize = opt.minimize(loss)"
   ]
  },
  {
   "cell_type": "code",
   "execution_count": 41,
   "metadata": {
    "collapsed": true
   },
   "outputs": [],
   "source": [
    "def get_images(n_minibatches, minibatch_size, n_iterations):\n",
    "    image_set = []\n",
    "    for i in range(n_iterations):\n",
    "        batch = mnist.train.next_batch(batch_size = n_minibatches*minibatch_size,\n",
    "                                       shuffle=False)\n",
    "        image_set.append(batch)\n",
    "    return image_set"
   ]
  },
  {
   "cell_type": "code",
   "execution_count": 42,
   "metadata": {
    "collapsed": true
   },
   "outputs": [],
   "source": [
    "def train_minibatch(n_minibatches, minibatch_size, n_iterations, image_set):\n",
    "    tf.set_random_seed(1234)\n",
    "    tf.global_variables_initializer().run()\n",
    "    acc_log = np.zeros(n_iterations)\n",
    "    loss_log = np.zeros(n_iterations)\n",
    "\n",
    "    for i in range(n_iterations):\n",
    "        sess.run(zero_ops)\n",
    "        batch = image_set[i]\n",
    "        for j in range(n_minibatches):\n",
    "            sess.run(accum_ops, \n",
    "                     feed_dict={x: batch[0][j*minibatch_size:(j+1)*minibatch_size],\n",
    "                                y_: batch[1][j*minibatch_size:(j+1)*minibatch_size]})\n",
    "        acc_log[i] = sess.run(accuracy, \n",
    "                              feed_dict={x: mnist.test.images, y_: mnist.test.labels})\n",
    "        loss_log[i] = sess.run(loss, \n",
    "                               feed_dict={x: mnist.test.images, y_: mnist.test.labels})\n",
    "        sess.run(train_step)\n",
    "        #print(\"in iteration {}\".format(i), sess.run(accum_vars))\n",
    "    return acc_log, loss_log"
   ]
  },
  {
   "cell_type": "code",
   "execution_count": 43,
   "metadata": {
    "collapsed": true
   },
   "outputs": [],
   "source": [
    "def train_reproduce(batch_size, n_iterations, image_set):\n",
    "    tf.set_random_seed(1234)\n",
    "    tf.global_variables_initializer().run()\n",
    "    acc_log = np.zeros(n_iterations)\n",
    "    loss_log = np.zeros(n_iterations)\n",
    "\n",
    "    for i in range(n_iterations):\n",
    "        batch = image_set[i]\n",
    "        #print(\"in iteration {}\".format(i), sess.run(opt.compute_gradients(loss), feed_dict={x: batch[0], y_: batch[1]}))\n",
    "        acc_log[i] = sess.run(accuracy, \n",
    "                              feed_dict={x: mnist.test.images, y_: mnist.test.labels})\n",
    "        loss_log[i] = sess.run(loss, \n",
    "                               feed_dict={x: mnist.test.images, y_: mnist.test.labels})\n",
    "        sess.run(minimize, feed_dict={x: batch[0], y_: batch[1]})\n",
    "    return acc_log, loss_log"
   ]
  },
  {
   "cell_type": "code",
   "execution_count": 27,
   "metadata": {
    "scrolled": false
   },
   "outputs": [
    {
     "data": {
      "image/png": "[encoded data removed]",
      "text/plain": [
       "<matplotlib.figure.Figure at 0x11f49c748>"
      ]
     },
     "metadata": {},
     "output_type": "display_data"
    }
   ],
   "source": [
    "def main():\n",
    "    n_minibatches = 1\n",
    "    minibatch_size = 5\n",
    "    n_iterations = 20\n",
    "    \n",
    "    image_set = get_images(n_minibatches, minibatch_size, n_iterations)\n",
    "    acc_log, loss_log = train_minibatch(n_minibatches, minibatch_size, n_iterations, image_set)\n",
    "    acc_log2, loss_log2 = train_reproduce(minibatch_size, n_iterations, image_set)\n",
    "    \n",
    "    f, axarr = plt.subplots(2)\n",
    "\n",
    "    f.suptitle(\"SGD\")\n",
    "    axarr[0].set_ylabel(\"accuracy\")\n",
    "    axarr[0].set_xlabel(\"iterations\")\n",
    "    axarr[0].plot(acc_log, 'b', label=\"({}, {}, {})\".format(n_minibatches, minibatch_size, n_iterations))\n",
    "    axarr[0].plot(acc_log2, 'r.', label=\"({}, {}, {})\".format(1, minibatch_size, n_iterations))\n",
    "    axarr[0].legend()\n",
    "\n",
    "    axarr[1].set_ylabel(\"loss\")\n",
    "    axarr[1].set_xlabel(\"iterations\")\n",
    "    axarr[1].plot(loss_log, 'b', label=\"({}, {}, {})\".format(n_minibatches, minibatch_size, n_iterations))\n",
    "    axarr[1].plot(loss_log2, 'r.', label=\"({}, {}, {})\".format(1, minibatch_size, n_iterations))\n",
    "    axarr[1].legend()\n",
    "\n",
    "    plt.show()\n",
    "if __name__ == '__main__':\n",
    "    main()"
   ]
  }
 ],
 "metadata": {
  "kernelspec": {
   "display_name": "Python 3",
   "language": "python",
   "name": "python3"
  },
  "language_info": {
   "codemirror_mode": {
    "name": "ipython",
    "version": 3
   },
   "file_extension": ".py",
   "mimetype": "text/x-python",
   "name": "python",
   "nbconvert_exporter": "python",
   "pygments_lexer": "ipython3",
   "version": "3.5.1"
  }
 },
 "nbformat": 4,
 "nbformat_minor": 2
}
