{
 "cells": [
  {
   "cell_type": "markdown",
   "metadata": {
    "slideshow": {
     "slide_type": "slide"
    }
   },
   "source": [
    "<img src=\"header.png\" width=\"2048\" height=\"480\" align=\"center\"/>\n",
    "\n",
    "# Preliminary Experiments in DRP Catalog Emulation using Bayesian Neural Networks\n",
    "\n",
    "*Ji Won Park, Phil Marshall (Stanford/SLAC)*\n",
    "\n",
    "Created for the SSim telecon on 6/20/2019\n",
    "\n",
    "This Note describes initial experiments in emulating DRP Source and Object catalogs using a Bayesian approach to deep learning, called bayesian neural networks (BNN). We show that BNNs can be applied to estimate both observational and modeling uncertainties."
   ]
  },
  {
   "cell_type": "markdown",
   "metadata": {
    "slideshow": {
     "slide_type": "slide"
    }
   },
   "source": [
    "Catalog emulation\n",
    "===============\n",
    "The forward problem! Given the truth properties of an object and the observation conditions, we wish to infer the observed properties.\n",
    "\n",
    "```\n",
    "def emulator(extragalactic_catalog, opsim):\n",
    "\n",
    "    <process approximating the image processing \n",
    "    and object detection/measurement>\n",
    "    \n",
    "    return emulated_drp_object_catalog\n",
    "```"
   ]
  },
  {
   "cell_type": "markdown",
   "metadata": {
    "slideshow": {
     "slide_type": "slide"
    }
   },
   "source": [
    "Why emulate with deep learning?\n",
    "==\n",
    "\n",
    "- Less computational resource\n",
    "    - Compare 1 million CPU hours for simulating the 300 deg$^2$ of DC2 images vs. ~ minutes for DL inference\n",
    "- Schema-specific emulation\n",
    "    - e.g. simultaneously inferring psFlux, KronFlux, and ApertureFlux\n",
    "- More complex noise modeling\n",
    "    - Go beyond circular Gaussian PSF and Gaussian sky noise"
   ]
  },
  {
   "cell_type": "markdown",
   "metadata": {
    "slideshow": {
     "slide_type": "slide"
    }
   },
   "source": [
    "Limits of traditional deep learning\n",
    "==\n",
    "\n",
    "A common criticism against traditional neural networks (NNs) is that they are black boxes that output a point estimate, with no reference to the predictive uncertainty.\n",
    "\n",
    "<center><img src=https://imgs.xkcd.com/comics/machine_learning.png height=\"200\" align=\"center\"/></center>"
   ]
  },
  {
   "cell_type": "markdown",
   "metadata": {
    "slideshow": {
     "slide_type": "skip"
    }
   },
   "source": [
    "<a id='bnn_motivation'></a>\n",
    "\n",
    "Casting deep learning as Bayesian models: Bayesian neural network (BNN)\n",
    "==\n",
    "\n",
    "Instead of having deterministic weight parameters, as in traditional NNs, BNNs place distributions over these parameters.\n",
    "\n",
    "Output of BNN, call it $f^{W}(x)$.\n"
   ]
  },
  {
   "cell_type": "markdown",
   "metadata": {
    "slideshow": {
     "slide_type": "slide"
    }
   },
   "source": [
    "Bayesian modeling for the forward problem\n",
    "==\n",
    "\n",
    "- True properties are the training inputs $X = \\{ x_1, \\cdots, x_N \\}$\n",
    "- Observed properties are the training labels $Y = \\{y_1, \\cdots, y_N\\}$\n",
    "- Prior on observed properties, $p(y)$\n",
    "- Likelihood of true properties given the observed properties, $p(x | y)$\n",
    "- Posterior of the observed properties given the true properties, $p(y | x)$"
   ]
  },
  {
   "cell_type": "markdown",
   "metadata": {
    "slideshow": {
     "slide_type": "skip"
    }
   },
   "source": [
    "Conclusions\n",
    "===========\n",
    "\n",
    "Write about your conclusions here. You have drawn some, right?"
   ]
  },
  {
   "cell_type": "markdown",
   "metadata": {
    "collapsed": true,
    "slideshow": {
     "slide_type": "notes"
    }
   },
   "source": [
    "so the problem you found was that DM is not handling colour-dependent astrometry, which is biggest in g-band and high airmass (u is narrow; rizy have much less DCR).  g-r at high metallicity saturates at c. 1.2 so the distribution in g-r is bimodal. The plan is to include this in the PSF, but the code doesn't exist.  We could of course regress this out against colour/colours (at least for stars)."
   ]
  },
  {
   "cell_type": "markdown",
   "metadata": {
    "collapsed": true
   },
   "source": []
  },
  {
   "cell_type": "code",
   "execution_count": null,
   "metadata": {
    "collapsed": true
   },
   "outputs": [],
   "source": []
  },
  {
   "cell_type": "markdown",
   "metadata": {},
   "source": [
    "# Appendix: LSST DESC Notes `ipynb` Reference\n",
    "\n",
    "You can delete all of this whenever you're ready."
   ]
  },
  {
   "cell_type": "markdown",
   "metadata": {},
   "source": [
    "Introduction\n",
    "------------\n",
    "\n",
    "This is a template `ipynb` LSST DESC Note, for you to adapt for\n",
    "your own work."
   ]
  },
  {
   "cell_type": "markdown",
   "metadata": {},
   "source": [
    "Sectioning\n",
    "----------\n",
    "\n",
    "As you can see above, your [`Markdown`](https://github.com/adam-p/Markdown-here/wiki/Markdown-Cheatsheet) content can easily be divided into sections.\n",
    "You can also make subsections, as follows.\n",
    "\n",
    "### A Subsection\n",
    "\n",
    "You can even have subsubsections, like this:\n",
    "\n",
    "#### A Subsubsection\n",
    "\n",
    "See? This is a subsubsection.\n",
    "\n",
    "#### Another Subsubsection\n",
    "\n",
    "And so is this.\n",
    "\n",
    "### Another Subsection\n",
    "\n",
    "And so on."
   ]
  },
  {
   "cell_type": "markdown",
   "metadata": {
    "slideshow": {
     "slide_type": "slide"
    }
   },
   "source": [
    "Math\n",
    "----\n",
    "\n",
    "You can typeset mathematics using latex commands like this:\n",
    "\n",
    "$$\\langle f(k) \\rangle = \\frac{ \\sum_{t=0}^{N}f(t,k) }{N}$$\n"
   ]
  },
  {
   "cell_type": "markdown",
   "metadata": {
    "slideshow": {
     "slide_type": "slide"
    }
   },
   "source": [
    "Code\n",
    "----\n",
    "\n",
    "You can show code in blocks like this:\n",
    "\n",
    "```python\n",
    "print \"Hello World\"\n",
    "```\n",
    "\n",
    "or this:\n",
    "\n",
    "```bash\n",
    "echo \"Hello World\"\n",
    "```\n",
    "\n",
    "Inline mentions of code `objects` can be made using backquotes.\n",
    "\n",
    "You can also include live code blocks and their outputs, in the usual way. However, it is strongly recommended restart the kernel and clear all outputs before committing changes to the notebook, to prevent the Note's repo expanding to large size. A better approach is to finalize the graphical outputs of the notebook and then save them in the `figures` folder, before displaying them in a `Markdown` cell using `![]()` formatting. This way you can keep the number of commits of large binary elements to a minimum.\n",
    "\n",
    "Here is some example code, that will run when this notebook is live:"
   ]
  },
  {
   "cell_type": "code",
   "execution_count": 1,
   "metadata": {
    "slideshow": {
     "slide_type": "slide"
    }
   },
   "outputs": [
    {
     "name": "stdout",
     "output_type": "stream",
     "text": [
      "Hello World\n"
     ]
    }
   ],
   "source": [
    "print \"Hello World\""
   ]
  },
  {
   "cell_type": "markdown",
   "metadata": {
    "slideshow": {
     "slide_type": "slide"
    }
   },
   "source": [
    "## Figures\n",
    "\n",
    "To add figures, add the required image file (PDF, PNG or JPG preferred)\n",
    "to the `figures` subdirectory in your Note's folder. Here's an example:\n",
    "\n",
    "![](./figures/example.png)\n",
    "This is the figure caption: above we have a DESC logo, in PNG format.\n",
    "\n",
    "And then the text continues."
   ]
  },
  {
   "cell_type": "markdown",
   "metadata": {
    "slideshow": {
     "slide_type": "slide"
    }
   },
   "source": [
    "## Tables\n",
    "\n",
    "Tables can be fiddly in `Markdown`. A good place to start is an online table generator like [this one](http://www.tablesgenerator.com/markdown_tables). Then, you'll need some patience. For more on table formatting, see the [`Markdown` cheat-sheet](https://github.com/adam-p/markdown-here/wiki/Markdown-Cheatsheet#tables).\n",
    "\n",
    "|   A   |   B   |      C         |  D  |\n",
    "|:-----:|:-----:|:--------------:|:---:|\n",
    "| (deg) | (kpc) | ($M_{\\odot}$)  |     |\n",
    "|  0.4  |  3.4  |  $10^{12.2}$   | R,S |\n",
    "|  9.6  |  8.2  |  $10^{10.4}$   |  S  |\n"
   ]
  },
  {
   "cell_type": "markdown",
   "metadata": {
    "slideshow": {
     "slide_type": "slide"
    }
   },
   "source": [
    "## References\n",
    "\n",
    "You can cite papers (or anything else) by providing hyperlinks. For\n",
    "example, you might have been impressed by the DESC White Paper [(LSST\n",
    "Dark Energy Science Collaboration\n",
    "2012)](http://arxiv.org/abs/1211.0310). It should be possible to convert\n",
    "these links to latex citations automatically later."
   ]
  },
  {
   "cell_type": "markdown",
   "metadata": {
    "slideshow": {
     "slide_type": "slide"
    }
   },
   "source": [
    "## Further Resources\n",
    "\n",
    "For a guide to writing `Markdown` documents, check out this [useful little cheatsheet](https://github.com/adam-p/markdown-here/wiki/Markdown-Cheatsheet)."
   ]
  },
  {
   "cell_type": "code",
   "execution_count": null,
   "metadata": {
    "collapsed": true
   },
   "outputs": [],
   "source": []
  }
 ],
 "metadata": {
  "celltoolbar": "Slideshow",
  "kernelspec": {
   "display_name": "Python 3",
   "language": "python",
   "name": "python3"
  },
  "language_info": {
   "codemirror_mode": {
    "name": "ipython",
    "version": 3
   },
   "file_extension": ".py",
   "mimetype": "text/x-python",
   "name": "python",
   "nbconvert_exporter": "python",
   "pygments_lexer": "ipython3",
   "version": "3.5.2"
  }
 },
 "nbformat": 4,
 "nbformat_minor": 1
}
